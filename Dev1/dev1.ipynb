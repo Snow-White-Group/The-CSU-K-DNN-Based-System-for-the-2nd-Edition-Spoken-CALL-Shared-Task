{
 "cells": [
  {
   "cell_type": "markdown",
   "metadata": {},
   "source": [
    "# DNN_PAPER_V1"
   ]
  },
  {
   "cell_type": "markdown",
   "metadata": {},
   "source": [
    "## Import & Helperfunctions"
   ]
  },
  {
   "cell_type": "code",
   "execution_count": 1,
   "metadata": {
    "scrolled": true
   },
   "outputs": [
    {
     "name": "stderr",
     "output_type": "stream",
     "text": [
      "/home/spokencall/.conda/envs/tensorflow/lib/python3.6/site-packages/h5py/__init__.py:36: FutureWarning: Conversion of the second argument of issubdtype from `float` to `np.floating` is deprecated. In future, it will be treated as `np.float64 == np.dtype(float).type`.\n",
      "  from ._conv import register_converters as _register_converters\n",
      "Using TensorFlow backend.\n",
      "/home/spokencall/.conda/envs/tensorflow/lib/python3.6/importlib/_bootstrap.py:219: RuntimeWarning: compiletime version 3.5 of module 'tensorflow.python.framework.fast_tensor_util' does not match runtime version 3.6\n",
      "  return f(*args, **kwds)\n"
     ]
    }
   ],
   "source": [
    "import numpy as np\n",
    "import matplotlib.pyplot as plt\n",
    "import pandas as pd\n",
    "from sklearn.preprocessing import StandardScaler\n",
    "import keras\n",
    "from keras.models import Sequential\n",
    "from keras.layers import Dense, Dropout\n",
    "from keras.optimizers import SGD\n",
    "import math\n",
    "import uuid"
   ]
  },
  {
   "cell_type": "code",
   "execution_count": 2,
   "metadata": {
    "scrolled": true
   },
   "outputs": [],
   "source": [
    "def clearY(y):\n",
    "    clean_input = np.array([]).reshape(0, 1)\n",
    "    for data in y:\n",
    "        pos1 = data[0]\n",
    "        pos2 = data[1]\n",
    "        pos3 = data[2]\n",
    "        if  pos1 == 1 and pos2 == 0 and pos3 ==0:\n",
    "                clean_input = np.vstack((clean_input, [1]))\n",
    "        else:\n",
    "                clean_input = np.vstack((clean_input, [0]))\n",
    "    return clean_input"
   ]
  },
  {
   "cell_type": "code",
   "execution_count": 3,
   "metadata": {
    "scrolled": true
   },
   "outputs": [],
   "source": [
    "def evaluate(true_y, pred_y):\n",
    "    true_classes = []\n",
    "    for array in true_y:\n",
    "        if np.array_equal(array,[1, 0, 0]):\n",
    "            true_classes.append(0)\n",
    "        elif np.array_equal(array,[0, 1, 0]):\n",
    "            true_classes.append(1)\n",
    "        else:\n",
    "            true_classes.append(2)\n",
    "        \n",
    "    CR, CA, PFA, GFA, FR, k = 0, 0, 0, 0, 0, 3.0\n",
    "    for idx, prediction in enumerate(pred_y):\n",
    "        # the students answer is correct in meaning and language\n",
    "        # the system says the same -> accept\n",
    "        if true_classes[idx] == 0 and prediction == 1:\n",
    "            CA += 1\n",
    "        # the system says correct meaning wrong language -> reject\n",
    "        elif true_classes[idx] == 0 and prediction == 0:\n",
    "            FR += 1\n",
    "        # the system says incorrect meaning and incorrect language -> reject\n",
    "        elif true_classes[idx] == 0 and prediction == 0:\n",
    "            FR += 1\n",
    "\n",
    "        # students answer is correct in meaning and wrong in language\n",
    "        #The system says the same -> reject\n",
    "        elif true_classes[idx] == 1 and prediction == 0:\n",
    "            CR += 1\n",
    "        # the system says correct meaning and correct language -> accept\n",
    "        elif true_classes[idx] == 1 and prediction == 1:\n",
    "            PFA += 1\n",
    "        # the system says incorrect meaning and incorrect language -> reject\n",
    "        elif true_classes[idx] == 1 and prediction == 0:\n",
    "            CR += 1\n",
    "\n",
    "        # students answer is incorrect in meaning and incorrect in language\n",
    "        # the system says the same -> reject\n",
    "        elif true_classes[idx] == 2 and prediction == 0:\n",
    "            CR += 1\n",
    "        # the system says correct meaning correct language -> accept\n",
    "        elif true_classes[idx] == 2 and prediction == 1: \n",
    "            GFA += 1\n",
    "        # the system says correct meaning incorrect language -> reject\n",
    "        elif true_classes[idx] == 2 and prediction == 0:\n",
    "            CR += 1\n",
    "\n",
    "    FA = PFA + k * GFA\n",
    "    Correct = CA + FR\n",
    "    Incorrect = CR + GFA + PFA\n",
    "    IncorrectRejectionRate = CR / ( CR + FA + 0.0 )\n",
    "    CorrectRejectionRate = FR / ( FR + CA + 0.0 )\n",
    "    # Further metrics\n",
    "    Z = CA + CR + FA + FR\n",
    "    Ca = CA / Z\n",
    "    Cr = CR / Z\n",
    "    Fa = FA / Z\n",
    "    Fr = FR / Z\n",
    "    \n",
    "    P = Ca / (Ca + Fa)\n",
    "    R = Ca / (Ca + Fr)\n",
    "    SA = Ca + Cr\n",
    "    F = (2 * P * R)/( P + R)\n",
    "    \n",
    "    RCa = Ca / (Fr + Ca)\n",
    "    RFa = Fa / (Cr + Fa)\n",
    "    \n",
    "    D = IncorrectRejectionRate / CorrectRejectionRate\n",
    "    Da = RCa / RFa\n",
    "    Df = math.sqrt((Da*D))\n",
    "    \n",
    "    print('\\nINCORRECT UTTERANCES (' + str(Incorrect) + ')' )\n",
    "    print('CorrectReject    ' + str(CR) )\n",
    "    print('GrossFalseAccept ' + str(GFA) + '*' + str(k) + ' = ' + str(GFA * k) )\n",
    "    print('PlainFalseAccept ' + str(PFA) )\n",
    "    print('RejectionRate    ' + \"{:.3f}\".format(IncorrectRejectionRate) )\n",
    "\n",
    "    print('\\nCORRECT UTTERANCES (' + str(Correct) + ')')\n",
    "    print('CorrectAccept    ' + str(CA) )\n",
    "    print('FalseReject      ' + str(FR) )\n",
    "    print('RejectionRate    ' + \"{:.3f}\".format(CorrectRejectionRate) )\n",
    "    \n",
    "    print('\\n--------------REPORT---------------')\n",
    "    print('-----------------------------------')\n",
    "    print('Pr                            ' +  \"{:.3f}\".format(P) )\n",
    "    print('F                             ' +  \"{:.3f}\".format(F) )\n",
    "    print('Sa                            ' +  \"{:.3f}\".format(SA) )\n",
    "    \n",
    "    print('\\n--------------Metrics--------------')\n",
    "    print('D                             ' +  \"{:.3f}\".format(D) )\n",
    "    print('Da                            ' +  \"{:.3f}\".format(Da) )\n",
    "    print('Df                            ' +  \"{:.3f}\".format(Df) )"
   ]
  },
  {
   "cell_type": "markdown",
   "metadata": {},
   "source": [
    "## Preprocessing"
   ]
  },
  {
   "cell_type": "code",
   "execution_count": 4,
   "metadata": {
    "scrolled": true
   },
   "outputs": [
    {
     "name": "stdout",
     "output_type": "stream",
     "text": [
      "Train_x:    10092\n",
      "Train_y:    10092\n",
      "\n",
      "\n",
      "Dev_Test_x:    2524\n",
      "Dev_Test_y:    2524\n"
     ]
    }
   ],
   "source": [
    "train_x = np.loadtxt('/home/spokencall/dnnPaper/expValidation/vec_train_x.csv' ,delimiter=',',usecols=range(11)[1:])\n",
    "train_y = clearY(np.loadtxt('/home/spokencall/dnnPaper/expValidation/vec_train_y.csv', delimiter=',',usecols=range(4)[1:]))\n",
    "\n",
    "print('Train_x:    ' + str(len(train_x)))\n",
    "print('Train_y:    ' + str(len(train_y)))\n",
    "\n",
    "print('\\n')\n",
    "\n",
    "\n",
    "dev_test_x = np.loadtxt('/home/spokencall/dnnPaper/expValidation/vec_test_x.csv', delimiter=',',usecols=range(11)[1:])\n",
    "dev_test_y = np.loadtxt('/home/spokencall/dnnPaper/expValidation/vec_test_y.csv', delimiter=',',usecols=range(4)[1:])\n",
    "print('Dev_Test_x:    ' + str(len(dev_test_x)))\n",
    "print('Dev_Test_y:    ' + str(len(dev_test_y)))"
   ]
  },
  {
   "cell_type": "code",
   "execution_count": 5,
   "metadata": {
    "scrolled": true
   },
   "outputs": [],
   "source": [
    "# fix random seed for reproducibility\n",
    "seed = 7\n",
    "np.random.seed(seed)"
   ]
  },
  {
   "cell_type": "code",
   "execution_count": 6,
   "metadata": {
    "scrolled": true
   },
   "outputs": [],
   "source": [
    "# Sclae the vectors inorder to get better classification\n",
    "sc = StandardScaler()\n",
    "scaled_train_x = sc.fit_transform(train_x)\n",
    "scaled_dev_test_x = sc.transform(dev_test_x)"
   ]
  },
  {
   "cell_type": "markdown",
   "metadata": {},
   "source": [
    "## DNN definition"
   ]
  },
  {
   "cell_type": "code",
   "execution_count": 7,
   "metadata": {
    "scrolled": true
   },
   "outputs": [],
   "source": [
    "#Initializing Neural Network\n",
    "classifier = Sequential()\n",
    "\n",
    "# Adding the input layer and the first hidden layer\n",
    "classifier.add(Dense(64, activation='relu', input_dim=10))\n",
    "classifier.add(Dropout(0.5))\n",
    "classifier.add(Dense(64, activation='relu'))\n",
    "classifier.add(Dropout(0.5))\n",
    "classifier.add(Dense(1, activation='sigmoid'))"
   ]
  },
  {
   "cell_type": "code",
   "execution_count": 8,
   "metadata": {
    "scrolled": true
   },
   "outputs": [],
   "source": [
    "sgd = SGD(lr=0.01, decay=1e-6, momentum=0.9, nesterov=True)\n",
    "classifier.compile(loss='binary_crossentropy',\n",
    "              optimizer=sgd,\n",
    "              metrics=['accuracy'])"
   ]
  },
  {
   "cell_type": "code",
   "execution_count": 9,
   "metadata": {
    "scrolled": true
   },
   "outputs": [
    {
     "name": "stdout",
     "output_type": "stream",
     "text": [
      "_________________________________________________________________\n",
      "Layer (type)                 Output Shape              Param #   \n",
      "=================================================================\n",
      "dense_1 (Dense)              (None, 64)                704       \n",
      "_________________________________________________________________\n",
      "dropout_1 (Dropout)          (None, 64)                0         \n",
      "_________________________________________________________________\n",
      "dense_2 (Dense)              (None, 64)                4160      \n",
      "_________________________________________________________________\n",
      "dropout_2 (Dropout)          (None, 64)                0         \n",
      "_________________________________________________________________\n",
      "dense_3 (Dense)              (None, 1)                 65        \n",
      "=================================================================\n",
      "Total params: 4,929\n",
      "Trainable params: 4,929\n",
      "Non-trainable params: 0\n",
      "_________________________________________________________________\n",
      "None\n"
     ]
    }
   ],
   "source": [
    "print(classifier.summary())"
   ]
  },
  {
   "cell_type": "markdown",
   "metadata": {},
   "source": [
    "## Training of the model"
   ]
  },
  {
   "cell_type": "code",
   "execution_count": 10,
   "metadata": {
    "scrolled": true
   },
   "outputs": [
    {
     "name": "stdout",
     "output_type": "stream",
     "text": [
      "Train on 9082 samples, validate on 1010 samples\n",
      "Epoch 1/200\n",
      "9082/9082 [==============================] - 4s 421us/step - loss: 0.4199 - acc: 0.8358 - val_loss: 0.4915 - val_acc: 0.7861\n",
      "Epoch 2/200\n",
      "9082/9082 [==============================] - 4s 429us/step - loss: 0.3690 - acc: 0.8694 - val_loss: 0.4774 - val_acc: 0.8376\n",
      "Epoch 3/200\n",
      "9082/9082 [==============================] - 4s 427us/step - loss: 0.3571 - acc: 0.8716 - val_loss: 0.4763 - val_acc: 0.7861\n",
      "Epoch 4/200\n",
      "9082/9082 [==============================] - 4s 431us/step - loss: 0.3524 - acc: 0.8752 - val_loss: 0.4603 - val_acc: 0.8317\n",
      "Epoch 5/200\n",
      "9082/9082 [==============================] - 4s 413us/step - loss: 0.3499 - acc: 0.8748 - val_loss: 0.4533 - val_acc: 0.8337\n",
      "Epoch 6/200\n",
      "9082/9082 [==============================] - 4s 424us/step - loss: 0.3420 - acc: 0.8799 - val_loss: 0.4487 - val_acc: 0.8366\n",
      "Epoch 7/200\n",
      "9082/9082 [==============================] - 4s 421us/step - loss: 0.3405 - acc: 0.8789 - val_loss: 0.4452 - val_acc: 0.8356\n",
      "Epoch 8/200\n",
      "9082/9082 [==============================] - 4s 424us/step - loss: 0.3448 - acc: 0.8779 - val_loss: 0.4514 - val_acc: 0.8396\n",
      "Epoch 9/200\n",
      "9082/9082 [==============================] - 4s 411us/step - loss: 0.3450 - acc: 0.8778 - val_loss: 0.4593 - val_acc: 0.8386\n",
      "Epoch 10/200\n",
      "9082/9082 [==============================] - 4s 415us/step - loss: 0.3409 - acc: 0.8811 - val_loss: 0.4822 - val_acc: 0.7851\n",
      "Epoch 11/200\n",
      "9082/9082 [==============================] - 4s 417us/step - loss: 0.3431 - acc: 0.8792 - val_loss: 0.4469 - val_acc: 0.8337\n",
      "Epoch 12/200\n",
      "9082/9082 [==============================] - 4s 416us/step - loss: 0.3399 - acc: 0.8802 - val_loss: 0.4552 - val_acc: 0.8208\n",
      "Epoch 13/200\n",
      "9082/9082 [==============================] - 4s 414us/step - loss: 0.3408 - acc: 0.8817 - val_loss: 0.4500 - val_acc: 0.8337\n",
      "Epoch 14/200\n",
      "9082/9082 [==============================] - 4s 400us/step - loss: 0.3421 - acc: 0.8811 - val_loss: 0.4599 - val_acc: 0.8337\n",
      "Epoch 15/200\n",
      "9082/9082 [==============================] - 4s 421us/step - loss: 0.3386 - acc: 0.8801 - val_loss: 0.4516 - val_acc: 0.8386\n",
      "Epoch 16/200\n",
      "9082/9082 [==============================] - 4s 421us/step - loss: 0.3411 - acc: 0.8782 - val_loss: 0.4761 - val_acc: 0.7861\n",
      "Epoch 17/200\n",
      "9082/9082 [==============================] - 4s 419us/step - loss: 0.3446 - acc: 0.8779 - val_loss: 0.4509 - val_acc: 0.8337\n",
      "Epoch 18/200\n",
      "9082/9082 [==============================] - 4s 416us/step - loss: 0.3417 - acc: 0.8810 - val_loss: 0.4622 - val_acc: 0.8347\n",
      "Epoch 19/200\n",
      "9082/9082 [==============================] - 4s 414us/step - loss: 0.3423 - acc: 0.8768 - val_loss: 0.4449 - val_acc: 0.8356\n",
      "Epoch 20/200\n",
      "9082/9082 [==============================] - 4s 422us/step - loss: 0.3411 - acc: 0.8817 - val_loss: 0.4295 - val_acc: 0.8356\n",
      "Epoch 21/200\n",
      "9082/9082 [==============================] - 4s 421us/step - loss: 0.3381 - acc: 0.8809 - val_loss: 0.4553 - val_acc: 0.8376\n",
      "Epoch 22/200\n",
      "9082/9082 [==============================] - 4s 417us/step - loss: 0.3373 - acc: 0.8809 - val_loss: 0.5017 - val_acc: 0.7881\n",
      "Epoch 23/200\n",
      "9082/9082 [==============================] - 4s 418us/step - loss: 0.3410 - acc: 0.8782 - val_loss: 0.4462 - val_acc: 0.8297\n",
      "Epoch 24/200\n",
      "9082/9082 [==============================] - 4s 419us/step - loss: 0.3423 - acc: 0.8798 - val_loss: 0.4925 - val_acc: 0.7891\n",
      "Epoch 25/200\n",
      "9082/9082 [==============================] - 4s 415us/step - loss: 0.3374 - acc: 0.8795 - val_loss: 0.4363 - val_acc: 0.8356\n",
      "Epoch 26/200\n",
      "9082/9082 [==============================] - 4s 406us/step - loss: 0.3390 - acc: 0.8831 - val_loss: 0.4577 - val_acc: 0.8297\n",
      "Epoch 27/200\n",
      "9082/9082 [==============================] - 4s 412us/step - loss: 0.3388 - acc: 0.8809 - val_loss: 0.4860 - val_acc: 0.7832\n",
      "Epoch 28/200\n",
      "9082/9082 [==============================] - 4s 417us/step - loss: 0.3411 - acc: 0.8802 - val_loss: 0.4480 - val_acc: 0.8337\n",
      "Epoch 29/200\n",
      "9082/9082 [==============================] - 4s 414us/step - loss: 0.3399 - acc: 0.8801 - val_loss: 0.4441 - val_acc: 0.8317\n",
      "Epoch 30/200\n",
      "9082/9082 [==============================] - 4s 421us/step - loss: 0.3463 - acc: 0.8780 - val_loss: 0.4839 - val_acc: 0.7861\n",
      "Epoch 31/200\n",
      "9082/9082 [==============================] - 4s 406us/step - loss: 0.3395 - acc: 0.8826 - val_loss: 0.4560 - val_acc: 0.8337\n",
      "Epoch 32/200\n",
      "9082/9082 [==============================] - 4s 412us/step - loss: 0.3441 - acc: 0.8773 - val_loss: 0.4518 - val_acc: 0.8337\n",
      "Epoch 33/200\n",
      "9082/9082 [==============================] - 4s 416us/step - loss: 0.3489 - acc: 0.8780 - val_loss: 0.5167 - val_acc: 0.7911\n",
      "Epoch 34/200\n",
      "9082/9082 [==============================] - 4s 415us/step - loss: 0.3464 - acc: 0.8780 - val_loss: 0.4872 - val_acc: 0.7832\n",
      "Epoch 35/200\n",
      "9082/9082 [==============================] - 4s 425us/step - loss: 0.3451 - acc: 0.8766 - val_loss: 0.4548 - val_acc: 0.8356\n",
      "Epoch 36/200\n",
      "9082/9082 [==============================] - 4s 413us/step - loss: 0.3518 - acc: 0.8746 - val_loss: 0.4594 - val_acc: 0.8337\n",
      "Epoch 37/200\n",
      "9082/9082 [==============================] - 4s 410us/step - loss: 0.3441 - acc: 0.8779 - val_loss: 0.4976 - val_acc: 0.7901\n",
      "Epoch 38/200\n",
      "9082/9082 [==============================] - 4s 415us/step - loss: 0.3492 - acc: 0.8768 - val_loss: 0.4551 - val_acc: 0.8337\n",
      "Epoch 39/200\n",
      "9082/9082 [==============================] - 4s 414us/step - loss: 0.3445 - acc: 0.8792 - val_loss: 0.4474 - val_acc: 0.8337\n",
      "Epoch 40/200\n",
      "9082/9082 [==============================] - 4s 420us/step - loss: 0.3437 - acc: 0.8762 - val_loss: 0.4529 - val_acc: 0.8317\n",
      "Epoch 41/200\n",
      "9082/9082 [==============================] - 4s 415us/step - loss: 0.3426 - acc: 0.8788 - val_loss: 0.4596 - val_acc: 0.8337\n",
      "Epoch 42/200\n",
      "9082/9082 [==============================] - 4s 416us/step - loss: 0.3424 - acc: 0.8778 - val_loss: 0.4394 - val_acc: 0.8317\n",
      "Epoch 43/200\n",
      "9082/9082 [==============================] - 4s 425us/step - loss: 0.3396 - acc: 0.8803 - val_loss: 0.4491 - val_acc: 0.8317\n",
      "Epoch 44/200\n",
      "9082/9082 [==============================] - 4s 418us/step - loss: 0.3443 - acc: 0.8778 - val_loss: 0.4719 - val_acc: 0.7832\n",
      "Epoch 45/200\n",
      "9082/9082 [==============================] - 4s 424us/step - loss: 0.3431 - acc: 0.8763 - val_loss: 0.5103 - val_acc: 0.7851\n",
      "Epoch 46/200\n",
      "9082/9082 [==============================] - 4s 413us/step - loss: 0.3472 - acc: 0.8757 - val_loss: 0.4965 - val_acc: 0.7822\n",
      "Epoch 47/200\n",
      "9082/9082 [==============================] - 4s 421us/step - loss: 0.3444 - acc: 0.8770 - val_loss: 0.4541 - val_acc: 0.8337\n",
      "Epoch 48/200\n",
      "9082/9082 [==============================] - 4s 424us/step - loss: 0.3451 - acc: 0.8749 - val_loss: 0.4637 - val_acc: 0.8337\n",
      "Epoch 49/200\n",
      "9082/9082 [==============================] - 4s 426us/step - loss: 0.3504 - acc: 0.8724 - val_loss: 0.4478 - val_acc: 0.8337\n",
      "Epoch 50/200\n",
      "9082/9082 [==============================] - 4s 422us/step - loss: 0.3447 - acc: 0.8729 - val_loss: 0.4592 - val_acc: 0.8337\n",
      "Epoch 51/200\n",
      "9082/9082 [==============================] - 4s 419us/step - loss: 0.3429 - acc: 0.8769 - val_loss: 0.4478 - val_acc: 0.8317\n",
      "Epoch 52/200\n",
      "9082/9082 [==============================] - 4s 408us/step - loss: 0.3434 - acc: 0.8750 - val_loss: 0.4635 - val_acc: 0.7851\n",
      "Epoch 53/200\n",
      "9082/9082 [==============================] - 4s 411us/step - loss: 0.3481 - acc: 0.8757 - val_loss: 0.4505 - val_acc: 0.8317\n",
      "Epoch 54/200\n",
      "9082/9082 [==============================] - 4s 411us/step - loss: 0.3448 - acc: 0.8745 - val_loss: 0.4446 - val_acc: 0.8317\n",
      "Epoch 55/200\n",
      "9082/9082 [==============================] - 4s 419us/step - loss: 0.3458 - acc: 0.8757 - val_loss: 0.4407 - val_acc: 0.8317\n",
      "Epoch 56/200\n",
      "9082/9082 [==============================] - 4s 416us/step - loss: 0.3459 - acc: 0.8755 - val_loss: 0.4503 - val_acc: 0.8337\n",
      "Epoch 57/200\n",
      "9082/9082 [==============================] - 4s 407us/step - loss: 0.3431 - acc: 0.8784 - val_loss: 0.4811 - val_acc: 0.7832\n",
      "Epoch 58/200\n",
      "9082/9082 [==============================] - 4s 415us/step - loss: 0.3482 - acc: 0.8705 - val_loss: 0.4831 - val_acc: 0.7832\n",
      "Epoch 59/200\n",
      "9082/9082 [==============================] - 4s 417us/step - loss: 0.3449 - acc: 0.8782 - val_loss: 0.5541 - val_acc: 0.7832\n",
      "Epoch 60/200\n"
     ]
    },
    {
     "name": "stdout",
     "output_type": "stream",
     "text": [
      "9082/9082 [==============================] - 4s 411us/step - loss: 0.3433 - acc: 0.8767 - val_loss: 0.4413 - val_acc: 0.8317\n",
      "Epoch 61/200\n",
      "9082/9082 [==============================] - 4s 414us/step - loss: 0.3393 - acc: 0.8795 - val_loss: 0.4937 - val_acc: 0.7832\n",
      "Epoch 62/200\n",
      "9082/9082 [==============================] - 4s 409us/step - loss: 0.3397 - acc: 0.8779 - val_loss: 0.4470 - val_acc: 0.8317\n",
      "Epoch 63/200\n",
      "9082/9082 [==============================] - 4s 412us/step - loss: 0.3434 - acc: 0.8759 - val_loss: 0.4674 - val_acc: 0.8317\n",
      "Epoch 64/200\n",
      "9082/9082 [==============================] - 4s 421us/step - loss: 0.3397 - acc: 0.8787 - val_loss: 0.5163 - val_acc: 0.7832\n",
      "Epoch 65/200\n",
      "9082/9082 [==============================] - 4s 418us/step - loss: 0.3385 - acc: 0.8789 - val_loss: 0.4581 - val_acc: 0.8337\n",
      "Epoch 66/200\n",
      "9082/9082 [==============================] - 4s 412us/step - loss: 0.3447 - acc: 0.8772 - val_loss: 0.4639 - val_acc: 0.8327\n",
      "Epoch 67/200\n",
      "9082/9082 [==============================] - 4s 421us/step - loss: 0.3506 - acc: 0.8733 - val_loss: 0.4865 - val_acc: 0.7832\n",
      "Epoch 68/200\n",
      "9082/9082 [==============================] - 4s 410us/step - loss: 0.3435 - acc: 0.8799 - val_loss: 0.4900 - val_acc: 0.7832\n",
      "Epoch 69/200\n",
      "9082/9082 [==============================] - 4s 417us/step - loss: 0.3417 - acc: 0.8788 - val_loss: 0.5051 - val_acc: 0.7851\n",
      "Epoch 70/200\n",
      "9082/9082 [==============================] - 4s 412us/step - loss: 0.3417 - acc: 0.8763 - val_loss: 0.4456 - val_acc: 0.8317\n",
      "Epoch 71/200\n",
      "9082/9082 [==============================] - 4s 417us/step - loss: 0.3441 - acc: 0.8761 - val_loss: 0.4539 - val_acc: 0.8337\n",
      "Epoch 72/200\n",
      "9082/9082 [==============================] - 4s 415us/step - loss: 0.3436 - acc: 0.8772 - val_loss: 0.4432 - val_acc: 0.8317\n",
      "Epoch 73/200\n",
      "9082/9082 [==============================] - 4s 422us/step - loss: 0.3439 - acc: 0.8772 - val_loss: 0.4562 - val_acc: 0.8337\n",
      "Epoch 74/200\n",
      "9082/9082 [==============================] - 4s 404us/step - loss: 0.3433 - acc: 0.8765 - val_loss: 0.4702 - val_acc: 0.7832\n",
      "Epoch 75/200\n",
      "9082/9082 [==============================] - 4s 413us/step - loss: 0.3414 - acc: 0.8786 - val_loss: 0.4734 - val_acc: 0.7832\n",
      "Epoch 76/200\n",
      "9082/9082 [==============================] - 4s 411us/step - loss: 0.3434 - acc: 0.8774 - val_loss: 0.4662 - val_acc: 0.7832\n",
      "Epoch 77/200\n",
      "9082/9082 [==============================] - 4s 403us/step - loss: 0.3405 - acc: 0.8779 - val_loss: 0.4866 - val_acc: 0.7832\n",
      "Epoch 78/200\n",
      "9082/9082 [==============================] - 4s 406us/step - loss: 0.3440 - acc: 0.8748 - val_loss: 0.4487 - val_acc: 0.8327\n",
      "Epoch 79/200\n",
      "9082/9082 [==============================] - 4s 416us/step - loss: 0.3419 - acc: 0.8781 - val_loss: 0.4492 - val_acc: 0.8327\n",
      "Epoch 80/200\n",
      "9082/9082 [==============================] - 4s 414us/step - loss: 0.3400 - acc: 0.8794 - val_loss: 0.4449 - val_acc: 0.8327\n",
      "Epoch 81/200\n",
      "9082/9082 [==============================] - 4s 416us/step - loss: 0.3351 - acc: 0.8791 - val_loss: 0.4489 - val_acc: 0.8317\n",
      "Epoch 82/200\n",
      "9082/9082 [==============================] - 4s 416us/step - loss: 0.3416 - acc: 0.8783 - val_loss: 0.4648 - val_acc: 0.7842\n",
      "Epoch 83/200\n",
      "9082/9082 [==============================] - 4s 414us/step - loss: 0.3425 - acc: 0.8759 - val_loss: 0.4643 - val_acc: 0.7822\n",
      "Epoch 84/200\n",
      "9082/9082 [==============================] - 4s 404us/step - loss: 0.3419 - acc: 0.8759 - val_loss: 0.4699 - val_acc: 0.7832\n",
      "Epoch 85/200\n",
      "9082/9082 [==============================] - 4s 418us/step - loss: 0.3410 - acc: 0.8769 - val_loss: 0.4460 - val_acc: 0.8317\n",
      "Epoch 86/200\n",
      "9082/9082 [==============================] - 4s 404us/step - loss: 0.3441 - acc: 0.8779 - val_loss: 0.4463 - val_acc: 0.8317\n",
      "Epoch 87/200\n",
      "9082/9082 [==============================] - 4s 396us/step - loss: 0.3393 - acc: 0.8816 - val_loss: 0.4963 - val_acc: 0.7832\n",
      "Epoch 88/200\n",
      "9082/9082 [==============================] - 4s 414us/step - loss: 0.3380 - acc: 0.8810 - val_loss: 0.4409 - val_acc: 0.8317\n",
      "Epoch 89/200\n",
      "9082/9082 [==============================] - 4s 407us/step - loss: 0.3355 - acc: 0.8798 - val_loss: 0.4438 - val_acc: 0.8287\n",
      "Epoch 90/200\n",
      "9082/9082 [==============================] - 4s 424us/step - loss: 0.3409 - acc: 0.8793 - val_loss: 0.4680 - val_acc: 0.7822\n",
      "Epoch 91/200\n",
      "9082/9082 [==============================] - 4s 417us/step - loss: 0.3466 - acc: 0.8760 - val_loss: 0.4751 - val_acc: 0.7832\n",
      "Epoch 92/200\n",
      "9082/9082 [==============================] - 4s 418us/step - loss: 0.3415 - acc: 0.8788 - val_loss: 0.4464 - val_acc: 0.8317\n",
      "Epoch 93/200\n",
      "9082/9082 [==============================] - 4s 418us/step - loss: 0.3396 - acc: 0.8784 - val_loss: 0.4665 - val_acc: 0.7832\n",
      "Epoch 94/200\n",
      "9082/9082 [==============================] - 4s 407us/step - loss: 0.3440 - acc: 0.8737 - val_loss: 0.4385 - val_acc: 0.8317\n",
      "Epoch 95/200\n",
      "9082/9082 [==============================] - 4s 413us/step - loss: 0.3391 - acc: 0.8777 - val_loss: 0.4510 - val_acc: 0.8337\n",
      "Epoch 96/200\n",
      "9082/9082 [==============================] - 4s 409us/step - loss: 0.3391 - acc: 0.8771 - val_loss: 0.4634 - val_acc: 0.8337\n",
      "Epoch 97/200\n",
      "9082/9082 [==============================] - 4s 411us/step - loss: 0.3410 - acc: 0.8781 - val_loss: 0.4478 - val_acc: 0.8317\n",
      "Epoch 98/200\n",
      "9082/9082 [==============================] - 4s 407us/step - loss: 0.3380 - acc: 0.8781 - val_loss: 0.4477 - val_acc: 0.8317\n",
      "Epoch 99/200\n",
      "9082/9082 [==============================] - 4s 411us/step - loss: 0.3355 - acc: 0.8801 - val_loss: 0.5023 - val_acc: 0.7832\n",
      "Epoch 100/200\n",
      "9082/9082 [==============================] - 4s 414us/step - loss: 0.3418 - acc: 0.8763 - val_loss: 0.4526 - val_acc: 0.8337\n",
      "Epoch 101/200\n",
      "9082/9082 [==============================] - 4s 413us/step - loss: 0.3377 - acc: 0.8800 - val_loss: 0.4775 - val_acc: 0.7851\n",
      "Epoch 102/200\n",
      "9082/9082 [==============================] - 4s 418us/step - loss: 0.3372 - acc: 0.8802 - val_loss: 0.4407 - val_acc: 0.8337\n",
      "Epoch 103/200\n",
      "9082/9082 [==============================] - 4s 392us/step - loss: 0.3407 - acc: 0.8776 - val_loss: 0.4668 - val_acc: 0.7832\n",
      "Epoch 104/200\n",
      "9082/9082 [==============================] - 4s 400us/step - loss: 0.3418 - acc: 0.8774 - val_loss: 0.5352 - val_acc: 0.7851\n",
      "Epoch 105/200\n",
      "9082/9082 [==============================] - 4s 412us/step - loss: 0.3427 - acc: 0.8782 - val_loss: 0.4577 - val_acc: 0.8337\n",
      "Epoch 106/200\n",
      "9082/9082 [==============================] - 4s 407us/step - loss: 0.3365 - acc: 0.8792 - val_loss: 0.5414 - val_acc: 0.7832\n",
      "Epoch 107/200\n",
      "9082/9082 [==============================] - 4s 419us/step - loss: 0.3393 - acc: 0.8766 - val_loss: 0.4485 - val_acc: 0.8337\n",
      "Epoch 108/200\n",
      "9082/9082 [==============================] - 4s 411us/step - loss: 0.3381 - acc: 0.8803 - val_loss: 0.4948 - val_acc: 0.7832\n",
      "Epoch 109/200\n",
      "9082/9082 [==============================] - 4s 414us/step - loss: 0.3400 - acc: 0.8772 - val_loss: 0.4625 - val_acc: 0.8337\n",
      "Epoch 110/200\n",
      "9082/9082 [==============================] - 4s 409us/step - loss: 0.3380 - acc: 0.8816 - val_loss: 0.4726 - val_acc: 0.8337\n",
      "Epoch 111/200\n",
      "9082/9082 [==============================] - 4s 421us/step - loss: 0.3360 - acc: 0.8817 - val_loss: 0.4457 - val_acc: 0.8327\n",
      "Epoch 112/200\n",
      "9082/9082 [==============================] - 4s 418us/step - loss: 0.3385 - acc: 0.8806 - val_loss: 0.4669 - val_acc: 0.7822\n",
      "Epoch 113/200\n",
      "9082/9082 [==============================] - 4s 415us/step - loss: 0.3384 - acc: 0.8794 - val_loss: 0.4520 - val_acc: 0.8317\n",
      "Epoch 114/200\n",
      "9082/9082 [==============================] - 4s 416us/step - loss: 0.3348 - acc: 0.8805 - val_loss: 0.4679 - val_acc: 0.8337\n",
      "Epoch 115/200\n",
      "9082/9082 [==============================] - 4s 412us/step - loss: 0.3390 - acc: 0.8790 - val_loss: 0.4478 - val_acc: 0.8337\n",
      "Epoch 116/200\n",
      "9082/9082 [==============================] - 4s 419us/step - loss: 0.3391 - acc: 0.8786 - val_loss: 0.4493 - val_acc: 0.8337\n",
      "Epoch 117/200\n",
      "9082/9082 [==============================] - 4s 415us/step - loss: 0.3338 - acc: 0.8808 - val_loss: 0.5340 - val_acc: 0.7851\n",
      "Epoch 118/200\n",
      "9082/9082 [==============================] - 4s 406us/step - loss: 0.3384 - acc: 0.8783 - val_loss: 0.4693 - val_acc: 0.7812\n",
      "Epoch 119/200\n"
     ]
    },
    {
     "name": "stdout",
     "output_type": "stream",
     "text": [
      "9082/9082 [==============================] - 4s 410us/step - loss: 0.3372 - acc: 0.8808 - val_loss: 0.4599 - val_acc: 0.7832\n",
      "Epoch 120/200\n",
      "9082/9082 [==============================] - 4s 410us/step - loss: 0.3410 - acc: 0.8782 - val_loss: 0.4561 - val_acc: 0.8317\n",
      "Epoch 121/200\n",
      "9082/9082 [==============================] - 4s 415us/step - loss: 0.3352 - acc: 0.8825 - val_loss: 0.4430 - val_acc: 0.8337\n",
      "Epoch 122/200\n",
      "9082/9082 [==============================] - 4s 413us/step - loss: 0.3377 - acc: 0.8794 - val_loss: 0.4562 - val_acc: 0.8337\n",
      "Epoch 123/200\n",
      "9082/9082 [==============================] - 4s 414us/step - loss: 0.3427 - acc: 0.8755 - val_loss: 0.4488 - val_acc: 0.8337\n",
      "Epoch 124/200\n",
      "9082/9082 [==============================] - 4s 426us/step - loss: 0.3369 - acc: 0.8788 - val_loss: 0.4499 - val_acc: 0.8307\n",
      "Epoch 125/200\n",
      "9082/9082 [==============================] - 4s 418us/step - loss: 0.3362 - acc: 0.8816 - val_loss: 0.4544 - val_acc: 0.8337\n",
      "Epoch 126/200\n",
      "9082/9082 [==============================] - 4s 423us/step - loss: 0.3381 - acc: 0.8790 - val_loss: 0.4390 - val_acc: 0.8317\n",
      "Epoch 127/200\n",
      "9082/9082 [==============================] - 4s 401us/step - loss: 0.3338 - acc: 0.8809 - val_loss: 0.4426 - val_acc: 0.8317\n",
      "Epoch 128/200\n",
      "9082/9082 [==============================] - 4s 409us/step - loss: 0.3345 - acc: 0.8824 - val_loss: 0.4744 - val_acc: 0.7832\n",
      "Epoch 129/200\n",
      "9082/9082 [==============================] - 4s 412us/step - loss: 0.3341 - acc: 0.8832 - val_loss: 0.5404 - val_acc: 0.7851\n",
      "Epoch 130/200\n",
      "9082/9082 [==============================] - 4s 419us/step - loss: 0.3317 - acc: 0.8837 - val_loss: 0.5355 - val_acc: 0.7832\n",
      "Epoch 131/200\n",
      "9082/9082 [==============================] - 4s 410us/step - loss: 0.3337 - acc: 0.8797 - val_loss: 0.4451 - val_acc: 0.8317\n",
      "Epoch 132/200\n",
      "9082/9082 [==============================] - 4s 420us/step - loss: 0.3347 - acc: 0.8800 - val_loss: 0.4913 - val_acc: 0.7832\n",
      "Epoch 133/200\n",
      "9082/9082 [==============================] - 4s 417us/step - loss: 0.3357 - acc: 0.8814 - val_loss: 0.4599 - val_acc: 0.8337\n",
      "Epoch 134/200\n",
      "9082/9082 [==============================] - 4s 410us/step - loss: 0.3359 - acc: 0.8802 - val_loss: 0.4785 - val_acc: 0.7772\n",
      "Epoch 135/200\n",
      "9082/9082 [==============================] - 4s 425us/step - loss: 0.3339 - acc: 0.8825 - val_loss: 0.5416 - val_acc: 0.7851\n",
      "Epoch 136/200\n",
      "9082/9082 [==============================] - 4s 418us/step - loss: 0.3385 - acc: 0.8801 - val_loss: 0.4512 - val_acc: 0.8337\n",
      "Epoch 137/200\n",
      "9082/9082 [==============================] - 4s 411us/step - loss: 0.3328 - acc: 0.8823 - val_loss: 0.4469 - val_acc: 0.8317\n",
      "Epoch 138/200\n",
      "9082/9082 [==============================] - 4s 420us/step - loss: 0.3365 - acc: 0.8786 - val_loss: 0.4662 - val_acc: 0.7832\n",
      "Epoch 139/200\n",
      "9082/9082 [==============================] - 4s 402us/step - loss: 0.3371 - acc: 0.8801 - val_loss: 0.5398 - val_acc: 0.7832\n",
      "Epoch 140/200\n",
      "9082/9082 [==============================] - 4s 418us/step - loss: 0.3371 - acc: 0.8803 - val_loss: 0.4574 - val_acc: 0.8337\n",
      "Epoch 141/200\n",
      "9082/9082 [==============================] - 4s 418us/step - loss: 0.3327 - acc: 0.8823 - val_loss: 0.4618 - val_acc: 0.8337\n",
      "Epoch 142/200\n",
      "9082/9082 [==============================] - 4s 417us/step - loss: 0.3362 - acc: 0.8821 - val_loss: 0.4636 - val_acc: 0.8317\n",
      "Epoch 143/200\n",
      "9082/9082 [==============================] - 4s 412us/step - loss: 0.3344 - acc: 0.8812 - val_loss: 0.4463 - val_acc: 0.8317\n",
      "Epoch 144/200\n",
      "9082/9082 [==============================] - 4s 415us/step - loss: 0.3336 - acc: 0.8795 - val_loss: 0.4782 - val_acc: 0.7832\n",
      "Epoch 145/200\n",
      "9082/9082 [==============================] - 4s 415us/step - loss: 0.3370 - acc: 0.8793 - val_loss: 0.5050 - val_acc: 0.7792\n",
      "Epoch 146/200\n",
      "9082/9082 [==============================] - 4s 417us/step - loss: 0.3345 - acc: 0.8797 - val_loss: 0.5419 - val_acc: 0.7851\n",
      "Epoch 147/200\n",
      "9082/9082 [==============================] - 4s 415us/step - loss: 0.3390 - acc: 0.8784 - val_loss: 0.4533 - val_acc: 0.8317\n",
      "Epoch 148/200\n",
      "9082/9082 [==============================] - 4s 419us/step - loss: 0.3348 - acc: 0.8820 - val_loss: 0.4684 - val_acc: 0.8337\n",
      "Epoch 149/200\n",
      "9082/9082 [==============================] - 4s 415us/step - loss: 0.3386 - acc: 0.8789 - val_loss: 0.4674 - val_acc: 0.7832\n",
      "Epoch 150/200\n",
      "9082/9082 [==============================] - 4s 419us/step - loss: 0.3357 - acc: 0.8803 - val_loss: 0.5220 - val_acc: 0.7663\n",
      "Epoch 151/200\n",
      "9082/9082 [==============================] - 4s 420us/step - loss: 0.3365 - acc: 0.8810 - val_loss: 0.5412 - val_acc: 0.7851\n",
      "Epoch 152/200\n",
      "9082/9082 [==============================] - 4s 405us/step - loss: 0.3349 - acc: 0.8812 - val_loss: 0.4524 - val_acc: 0.8337\n",
      "Epoch 153/200\n",
      "9082/9082 [==============================] - 4s 412us/step - loss: 0.3393 - acc: 0.8773 - val_loss: 0.4888 - val_acc: 0.7851\n",
      "Epoch 154/200\n",
      "9082/9082 [==============================] - 4s 424us/step - loss: 0.3345 - acc: 0.8805 - val_loss: 0.4747 - val_acc: 0.7851\n",
      "Epoch 155/200\n",
      "9082/9082 [==============================] - 4s 406us/step - loss: 0.3362 - acc: 0.8810 - val_loss: 0.4448 - val_acc: 0.8337\n",
      "Epoch 156/200\n",
      "9082/9082 [==============================] - 4s 421us/step - loss: 0.3328 - acc: 0.8815 - val_loss: 0.4712 - val_acc: 0.7832\n",
      "Epoch 157/200\n",
      "9082/9082 [==============================] - 4s 417us/step - loss: 0.3359 - acc: 0.8815 - val_loss: 0.4796 - val_acc: 0.7851\n",
      "Epoch 158/200\n",
      "9082/9082 [==============================] - 4s 397us/step - loss: 0.3367 - acc: 0.8787 - val_loss: 0.4546 - val_acc: 0.8337\n",
      "Epoch 159/200\n",
      "9082/9082 [==============================] - 4s 410us/step - loss: 0.3411 - acc: 0.8789 - val_loss: 0.4651 - val_acc: 0.7832\n",
      "Epoch 160/200\n",
      "9082/9082 [==============================] - 4s 409us/step - loss: 0.3289 - acc: 0.8843 - val_loss: 0.4727 - val_acc: 0.8317\n",
      "Epoch 161/200\n",
      "9082/9082 [==============================] - 4s 417us/step - loss: 0.3349 - acc: 0.8813 - val_loss: 0.4905 - val_acc: 0.7762\n",
      "Epoch 162/200\n",
      "9082/9082 [==============================] - 4s 410us/step - loss: 0.3342 - acc: 0.8808 - val_loss: 0.4737 - val_acc: 0.8337\n",
      "Epoch 163/200\n",
      "9082/9082 [==============================] - 4s 409us/step - loss: 0.3375 - acc: 0.8811 - val_loss: 0.4513 - val_acc: 0.8337\n",
      "Epoch 164/200\n",
      "9082/9082 [==============================] - 4s 421us/step - loss: 0.3320 - acc: 0.8823 - val_loss: 0.4711 - val_acc: 0.8317\n",
      "Epoch 165/200\n",
      "9082/9082 [==============================] - 4s 421us/step - loss: 0.3406 - acc: 0.8817 - val_loss: 0.4501 - val_acc: 0.8317\n",
      "Epoch 166/200\n",
      "9082/9082 [==============================] - 4s 421us/step - loss: 0.3342 - acc: 0.8810 - val_loss: 0.5268 - val_acc: 0.7733\n",
      "Epoch 167/200\n",
      "9082/9082 [==============================] - 4s 406us/step - loss: 0.3398 - acc: 0.8802 - val_loss: 0.4855 - val_acc: 0.7851\n",
      "Epoch 168/200\n",
      "9082/9082 [==============================] - 4s 419us/step - loss: 0.3352 - acc: 0.8832 - val_loss: 0.5139 - val_acc: 0.7822\n",
      "Epoch 169/200\n",
      "9082/9082 [==============================] - 4s 416us/step - loss: 0.3340 - acc: 0.8815 - val_loss: 0.4545 - val_acc: 0.8317\n",
      "Epoch 170/200\n",
      "9082/9082 [==============================] - 4s 415us/step - loss: 0.3353 - acc: 0.8793 - val_loss: 0.5221 - val_acc: 0.7851\n",
      "Epoch 171/200\n",
      "9082/9082 [==============================] - 4s 412us/step - loss: 0.3386 - acc: 0.8810 - val_loss: 0.4591 - val_acc: 0.8347\n",
      "Epoch 172/200\n",
      "9082/9082 [==============================] - 4s 414us/step - loss: 0.3358 - acc: 0.8816 - val_loss: 0.5036 - val_acc: 0.7851\n",
      "Epoch 173/200\n",
      "9082/9082 [==============================] - 4s 408us/step - loss: 0.3342 - acc: 0.8827 - val_loss: 0.5042 - val_acc: 0.7832\n",
      "Epoch 174/200\n",
      "9082/9082 [==============================] - 4s 426us/step - loss: 0.3340 - acc: 0.8841 - val_loss: 0.5037 - val_acc: 0.7832\n",
      "Epoch 175/200\n",
      "9082/9082 [==============================] - 4s 413us/step - loss: 0.3385 - acc: 0.8779 - val_loss: 0.4760 - val_acc: 0.7832\n",
      "Epoch 176/200\n",
      "9082/9082 [==============================] - 4s 419us/step - loss: 0.3410 - acc: 0.8779 - val_loss: 0.5072 - val_acc: 0.7772\n",
      "Epoch 177/200\n",
      "9082/9082 [==============================] - 4s 414us/step - loss: 0.3355 - acc: 0.8786 - val_loss: 0.4773 - val_acc: 0.8337\n",
      "Epoch 178/200\n"
     ]
    },
    {
     "name": "stdout",
     "output_type": "stream",
     "text": [
      "9082/9082 [==============================] - 4s 413us/step - loss: 0.3352 - acc: 0.8810 - val_loss: 0.4975 - val_acc: 0.7851\n",
      "Epoch 179/200\n",
      "9082/9082 [==============================] - 4s 406us/step - loss: 0.3353 - acc: 0.8809 - val_loss: 0.4952 - val_acc: 0.7822\n",
      "Epoch 180/200\n",
      "9082/9082 [==============================] - 4s 420us/step - loss: 0.3369 - acc: 0.8802 - val_loss: 0.4709 - val_acc: 0.7822\n",
      "Epoch 181/200\n",
      "9082/9082 [==============================] - 4s 401us/step - loss: 0.3318 - acc: 0.8838 - val_loss: 0.4640 - val_acc: 0.7812\n",
      "Epoch 182/200\n",
      "9082/9082 [==============================] - 4s 414us/step - loss: 0.3320 - acc: 0.8837 - val_loss: 0.4891 - val_acc: 0.7851\n",
      "Epoch 183/200\n",
      "9082/9082 [==============================] - 4s 406us/step - loss: 0.3385 - acc: 0.8799 - val_loss: 0.4796 - val_acc: 0.7802\n",
      "Epoch 184/200\n",
      "9082/9082 [==============================] - 4s 416us/step - loss: 0.3334 - acc: 0.8836 - val_loss: 0.4513 - val_acc: 0.8337\n",
      "Epoch 185/200\n",
      "9082/9082 [==============================] - 4s 406us/step - loss: 0.3320 - acc: 0.8833 - val_loss: 0.4462 - val_acc: 0.8337\n",
      "Epoch 186/200\n",
      "9082/9082 [==============================] - 4s 407us/step - loss: 0.3371 - acc: 0.8821 - val_loss: 0.4670 - val_acc: 0.8317\n",
      "Epoch 187/200\n",
      "9082/9082 [==============================] - 4s 412us/step - loss: 0.3339 - acc: 0.8799 - val_loss: 0.5443 - val_acc: 0.7851\n",
      "Epoch 188/200\n",
      "9082/9082 [==============================] - 4s 420us/step - loss: 0.3351 - acc: 0.8820 - val_loss: 0.4547 - val_acc: 0.8317\n",
      "Epoch 189/200\n",
      "9082/9082 [==============================] - 4s 409us/step - loss: 0.3338 - acc: 0.8831 - val_loss: 0.5113 - val_acc: 0.7851\n",
      "Epoch 190/200\n",
      "9082/9082 [==============================] - 4s 405us/step - loss: 0.3367 - acc: 0.8833 - val_loss: 0.4703 - val_acc: 0.7832\n",
      "Epoch 191/200\n",
      "9082/9082 [==============================] - 4s 416us/step - loss: 0.3380 - acc: 0.8794 - val_loss: 0.4504 - val_acc: 0.8297\n",
      "Epoch 192/200\n",
      "9082/9082 [==============================] - 4s 409us/step - loss: 0.3337 - acc: 0.8800 - val_loss: 0.4486 - val_acc: 0.8366\n",
      "Epoch 193/200\n",
      "9082/9082 [==============================] - 4s 417us/step - loss: 0.3319 - acc: 0.8813 - val_loss: 0.4597 - val_acc: 0.8317\n",
      "Epoch 194/200\n",
      "9082/9082 [==============================] - 4s 397us/step - loss: 0.3349 - acc: 0.8800 - val_loss: 0.4692 - val_acc: 0.8337\n",
      "Epoch 195/200\n",
      "9082/9082 [==============================] - 4s 409us/step - loss: 0.3367 - acc: 0.8813 - val_loss: 0.4577 - val_acc: 0.8317\n",
      "Epoch 196/200\n",
      "9082/9082 [==============================] - 4s 411us/step - loss: 0.3320 - acc: 0.8809 - val_loss: 0.4797 - val_acc: 0.7832\n",
      "Epoch 197/200\n",
      "9082/9082 [==============================] - 4s 411us/step - loss: 0.3343 - acc: 0.8836 - val_loss: 0.5022 - val_acc: 0.7832\n",
      "Epoch 198/200\n",
      "9082/9082 [==============================] - 4s 415us/step - loss: 0.3346 - acc: 0.8828 - val_loss: 0.4449 - val_acc: 0.8317\n",
      "Epoch 199/200\n",
      "9082/9082 [==============================] - 4s 416us/step - loss: 0.3326 - acc: 0.8824 - val_loss: 0.4478 - val_acc: 0.8277\n",
      "Epoch 200/200\n",
      "9082/9082 [==============================] - 4s 418us/step - loss: 0.3313 - acc: 0.8848 - val_loss: 0.4632 - val_acc: 0.8337\n"
     ]
    }
   ],
   "source": [
    "# Fitting our model \n",
    "hist = classifier.fit(scaled_train_x, train_y, batch_size = 5, epochs = 200, validation_split=0.1)"
   ]
  },
  {
   "cell_type": "code",
   "execution_count": 11,
   "metadata": {
    "scrolled": true
   },
   "outputs": [
    {
     "data": {
      "image/png": "[encoded data removed]",
      "text/plain": [
       "<matplotlib.figure.Figure at 0x7fde74d834a8>"
      ]
     },
     "metadata": {},
     "output_type": "display_data"
    }
   ],
   "source": [
    "import matplotlib.pyplot as plt\n",
    "plt.plot(hist.history[\"loss\"])\n",
    "plt.plot(hist.history[\"val_loss\"])\n",
    "plt.title(\"model loss\")\n",
    "plt.ylabel(\"loss\")\n",
    "plt.xlabel(\"epoch\")\n",
    "plt.legend([\"train\", \"val\"], loc=\"upper left\")\n",
    "plt.savefig(\"/home/spokencall/dnnPaper/expValidation/accuracy.png\")\n",
    "plt.show()"
   ]
  },
  {
   "cell_type": "code",
   "execution_count": 12,
   "metadata": {},
   "outputs": [
    {
     "data": {
      "image/png": "[encoded data removed]",
      "text/plain": [
       "<matplotlib.figure.Figure at 0x7fde74d83438>"
      ]
     },
     "metadata": {},
     "output_type": "display_data"
    }
   ],
   "source": [
    "# summarize history for accuracy\n",
    "plt.plot(hist.history['acc'])\n",
    "plt.plot(hist.history['val_acc'])\n",
    "plt.title('model accuracy')\n",
    "plt.ylabel('accuracy')\n",
    "plt.xlabel('epoch')\n",
    "plt.legend(['train', 'test'], loc='upper left')\n",
    "plt.savefig(\"/home/spokencall/dnnPaper/expValidation/accuracy.png\")\n",
    "plt.show()"
   ]
  },
  {
   "cell_type": "markdown",
   "metadata": {},
   "source": [
    "## Save the model"
   ]
  },
  {
   "cell_type": "code",
   "execution_count": 13,
   "metadata": {
    "scrolled": true
   },
   "outputs": [
    {
     "name": "stdout",
     "output_type": "stream",
     "text": [
      "Saved model to disk\n",
      "model-id:        00010203-0405-0607-0809-0a0b0c0d0e0f\n",
      "json:        v1_model_00010203-0405-0607-0809-0a0b0c0d0e0f_.json\n",
      "h5File:        v1_model_00010203-0405-0607-0809-0a0b0c0d0e0f_.h5\n"
     ]
    }
   ],
   "source": [
    "# uniqId\n",
    "uniqId = uuid.UUID('{00010203-0405-0607-0809-0a0b0c0d0e0f}')\n",
    "jsonFile = 'v1_model_' + str(uniqId)  +'_.json'\n",
    "h5File = 'v1_model_' + str(uniqId)  + '_.h5'\n",
    "# Save the model\n",
    "model_json = classifier.to_json()\n",
    "with open(jsonFile, 'w+') as json_file:\n",
    "    json_file.write(model_json)\n",
    "    \n",
    "# serialize weights to HDF5\n",
    "classifier.save_weights(h5File)\n",
    "\n",
    "print(\"Saved model to disk\")\n",
    "print('model-id:        ' + str(uniqId))\n",
    "print('json:        ' + str(jsonFile))\n",
    "print('h5File:        ' + str(h5File))"
   ]
  },
  {
   "cell_type": "markdown",
   "metadata": {},
   "source": [
    "## Evaluation of the model"
   ]
  },
  {
   "cell_type": "markdown",
   "metadata": {},
   "source": [
    "### Evaluate model with development test data"
   ]
  },
  {
   "cell_type": "code",
   "execution_count": 14,
   "metadata": {},
   "outputs": [
    {
     "name": "stdout",
     "output_type": "stream",
     "text": [
      "\n",
      "INCORRECT UTTERANCES (726)\n",
      "CorrectReject    627\n",
      "GrossFalseAccept 22*3.0 = 66.0\n",
      "PlainFalseAccept 77\n",
      "RejectionRate    0.814\n",
      "\n",
      "CORRECT UTTERANCES (1798)\n",
      "CorrectAccept    1624\n",
      "FalseReject      174\n",
      "RejectionRate    0.097\n",
      "\n",
      "--------------REPORT---------------\n",
      "-----------------------------------\n",
      "Pr                            0.919\n",
      "F                             0.911\n",
      "Sa                            0.877\n",
      "\n",
      "--------------Metrics--------------\n",
      "D                             8.414\n",
      "Da                            4.864\n",
      "Df                            6.397\n"
     ]
    }
   ],
   "source": [
    "dev_y_pred = classifier.predict_classes(scaled_dev_test_x)\n",
    "evaluate(dev_test_y, dev_y_pred)"
   ]
  }
 ],
 "metadata": {
  "kernelspec": {
   "display_name": "Python 3",
   "language": "python",
   "name": "python3"
  },
  "language_info": {
   "codemirror_mode": {
    "name": "ipython",
    "version": 3
   },
   "file_extension": ".py",
   "mimetype": "text/x-python",
   "name": "python",
   "nbconvert_exporter": "python",
   "pygments_lexer": "ipython3",
   "version": "3.6.4"
  }
 },
 "nbformat": 4,
 "nbformat_minor": 2
}
